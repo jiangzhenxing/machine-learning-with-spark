{
 "cells": [
  {
   "cell_type": "markdown",
   "metadata": {
    "collapsed": false
   },
   "source": [
    "# wordcount"
   ]
  },
  {
   "cell_type": "code",
   "execution_count": null,
   "metadata": {
    "collapsed": true
   },
   "outputs": [],
   "source": [
    "text = sc.textFile('in/hello.txt')\n",
    "text.flatMap(lambda line: line.split()) \\\n",
    "        .map(lambda word: (word,1)) \\\n",
    "        .reduceByKey(lambda x,y: x + y) \\\n",
    "        .sortBy(lambda t: -t[1]) \\\n",
    "        .collect()"
   ]
  },
  {
   "cell_type": "markdown",
   "metadata": {},
   "source": [
    "# middle num"
   ]
  },
  {
   "cell_type": "code",
   "execution_count": null,
   "metadata": {
    "collapsed": true
   },
   "outputs": [],
   "source": [
    "from operator import add\n",
    "rdd = sc.textFile('in/num.txt')\n",
    "# num of each num\n",
    "mappeddata = rdd.map(lambda x: (int(x),1)) \\\n",
    "                .reduceByKey(add) \\\n",
    "#                .sortByKey()\n",
    "count = mappeddata.reduce(lambda x,y: (0,x[1] + y[1]))[1]\n",
    "mid = count // 2\n",
    "print('count is:', count, '; mid is:', mid)\n",
    "class FindNth:\n",
    "    def __init__(self, n):\n",
    "        self.n = n\n",
    "        self.num = 0\n",
    "    def __call__(self, x):\n",
    "        self.num += x[1]\n",
    "        if self.num < self.n:\n",
    "            return False\n",
    "        elif self.num == self.n:\n",
    "            return True\n",
    "        else:\n",
    "            raise StopIteration\n",
    "rs = mappeddata.filter(FindNth(mid)) \\\n",
    "                .collect() \\\n",
    "                [0][0]\n",
    "print('the mid num is:', rs)"
   ]
  },
  {
   "cell_type": "markdown",
   "metadata": {},
   "source": [
    "# inverted index"
   ]
  },
  {
   "cell_type": "code",
   "execution_count": null,
   "metadata": {
    "collapsed": false
   },
   "outputs": [],
   "source": [
    "rdd = sc.textFile('in/doc.txt')\n",
    "def mapId(line):\n",
    "    values = line.split()\n",
    "    return [(values[i],values[0]) for i in range(1,len(values))]\n",
    "rdd.flatMap(mapId) \\\n",
    "    .reduceByKey(lambda x,y: x + ',' + y) \\\n",
    "    .sortByKey() \\\n",
    "    .map(lambda t: t[0] + ' ' + t[1]) \\\n",
    "    .saveAsTextFile('out/index')"
   ]
  },
  {
   "cell_type": "code",
   "execution_count": null,
   "metadata": {
    "collapsed": false,
    "scrolled": false
   },
   "outputs": [],
   "source": [
    "rdd = sc.parallelize([1,2,3,4,5,1,2,3,4,5,9], 2)\n",
    "rdd.reduce(lambda x,y: x^y)"
   ]
  },
  {
   "cell_type": "markdown",
   "metadata": {},
   "source": [
    "# Join"
   ]
  },
  {
   "cell_type": "code",
   "execution_count": null,
   "metadata": {
    "collapsed": false,
    "scrolled": false
   },
   "outputs": [],
   "source": [
    "from operator import add\n",
    "person = sc.textFile('in/person').map(lambda line: line.split())\n",
    "action = sc.textFile('in/action').map(lambda line: line.split())\n",
    "\n",
    "maxkey = action.sample(False, .5, 9) \\\n",
    "                .map(lambda x: (x[0],1)) \\\n",
    "                .reduceByKey(add) \\\n",
    "                .max(lambda x: x[1])[0]\n",
    "print('max key is:', maxkey)\n",
    "\n",
    "maxpart = action.filter(lambda p: p[0] == maxkey)\n",
    "other = action.filter(lambda p: p[0] != maxkey)\n",
    "\n",
    "person.join(maxpart) \\\n",
    "        .union(person.join(other)) \\\n",
    "        .collect()\n",
    "#person.map(lambda line: line.split()) \\\n",
    "#        .partitionBy(2, lambda k: 0 if k == maxkey else 1) \\\n",
    "#        .glom().collect()"
   ]
  },
  {
   "cell_type": "code",
   "execution_count": null,
   "metadata": {
    "collapsed": false
   },
   "outputs": [],
   "source": []
  }
 ],
 "metadata": {
  "kernelspec": {
   "display_name": "Python 3",
   "language": "python",
   "name": "python3"
  },
  "language_info": {
   "codemirror_mode": {
    "name": "ipython",
    "version": 3
   },
   "file_extension": ".py",
   "mimetype": "text/x-python",
   "name": "python",
   "nbconvert_exporter": "python",
   "pygments_lexer": "ipython3",
   "version": "3.5.0"
  }
 },
 "nbformat": 4,
 "nbformat_minor": 0
}
