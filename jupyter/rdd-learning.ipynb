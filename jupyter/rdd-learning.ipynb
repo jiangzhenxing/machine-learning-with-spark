{
 "cells": [
  {
   "cell_type": "code",
   "execution_count": 5,
   "metadata": {
    "collapsed": false
   },
   "outputs": [
    {
     "name": "stdout",
     "output_type": "stream",
     "text": [
      "[(0, [2, 2, 4, 6, 6, 8]), (1, [1, 1, 3, 3, 5, 7, 9])]\n"
     ]
    }
   ],
   "source": [
    "rdd = sc.parallelize([3,1,2,6,3,4,5,6,2,7,8,1,9])\n",
    "result = rdd.groupBy(lambda x: x % 2).collect()\n",
    "#print(result)\n",
    "rs = sorted([(x, sorted(y)) for x,y in result])\n",
    "print(rs)"
   ]
  },
  {
   "cell_type": "code",
   "execution_count": 10,
   "metadata": {
    "collapsed": false
   },
   "outputs": [
    {
     "name": "stdout",
     "output_type": "stream",
     "text": [
      "[('a', 2), ('b', 2), ('c', 1)]\n"
     ]
    }
   ],
   "source": [
    "rdd = sc.parallelize([('a',1), ('b',2), ('c',3), ('a',1), ('b',4)])\n",
    "result = rdd.groupByKey().mapValues(len).collect()\n",
    "print(sorted(result))\n",
    "#print([(x,list(y)) for x,y in result])"
   ]
  },
  {
   "cell_type": "code",
   "execution_count": 11,
   "metadata": {
    "collapsed": false
   },
   "outputs": [
    {
     "name": "stdout",
     "output_type": "stream",
     "text": [
      "[[1, 2], [3, 4], [5, 6, 7]]\n"
     ]
    }
   ],
   "source": [
    "rdd = sc.parallelize([1,2,3,4,5,6,7], 3)\n",
    "result = rdd.glom().collect()\n",
    "print(result)"
   ]
  },
  {
   "cell_type": "code",
   "execution_count": 13,
   "metadata": {
    "collapsed": false
   },
   "outputs": [
    {
     "name": "stdout",
     "output_type": "stream",
     "text": [
      "4950\n"
     ]
    }
   ],
   "source": [
    "rdd = sc.parallelize(range(100), 3)\n",
    "result = rdd.reduce(lambda x,y: x + y)\n",
    "print(result)"
   ]
  },
  {
   "cell_type": "code",
   "execution_count": 20,
   "metadata": {
    "collapsed": false
   },
   "outputs": [
    {
     "name": "stdout",
     "output_type": "stream",
     "text": [
      "[[('a', 1), ('b', 2)], [('c', 3), ('a', 2), ('c', 4)]]\n",
      "[('a', 3), ('b', 2), ('c', 7)]\n",
      "[('a', 3), ('b', 2), ('c', 7)]\n"
     ]
    }
   ],
   "source": [
    "rdd = sc.parallelize([('a',1), ('b',2), ('c',3), ('a',2), ('c',4)], 2)\n",
    "print(rdd.glom().collect())\n",
    "result = rdd.reduceByKey(lambda x,y: x + y).collect()\n",
    "print(sorted(result))\n",
    "result = rdd.reduceByKeyLocally(lambda x,y: x + y).items()\n",
    "print(sorted(result))"
   ]
  },
  {
   "cell_type": "code",
   "execution_count": 45,
   "metadata": {
    "collapsed": false,
    "scrolled": true
   },
   "outputs": [
    {
     "name": "stdout",
     "output_type": "stream",
     "text": [
      "[('b', '[1][2, 2]'), ('a', '[1, 1][2]')]\n"
     ]
    }
   ],
   "source": [
    "rdd = sc.parallelize([(\"a\", 1), (\"b\", 1), (\"a\", 1), ('b', 2), (\"a\", 2), ('b', 2)], 2)\n",
    "def add(x,y): \n",
    "    print('x y is:', x, y)\n",
    "    return str(x) + str(y)\n",
    "#result = rdd.combineByKey(lambda x: [x], None, lambda x,y: x + y).collect()\n",
    "def apd(x,y):\n",
    "    x.append(y)\n",
    "    return x\n",
    "result = rdd.combineByKey(lambda x: [x], apd, add).collect()\n",
    "print(result)"
   ]
  },
  {
   "cell_type": "code",
   "execution_count": 5,
   "metadata": {
    "collapsed": false
   },
   "outputs": [
    {
     "name": "stdout",
     "output_type": "stream",
     "text": [
      "48\n"
     ]
    }
   ],
   "source": [
    "rdd = sc.parallelize(list(range(10)), 2)\n",
    "result = rdd.fold(0, lambda x,y: x + y)\n",
    "print(result)"
   ]
  },
  {
   "cell_type": "code",
   "execution_count": 1,
   "metadata": {
    "collapsed": false
   },
   "outputs": [
    {
     "name": "stdout",
     "output_type": "stream",
     "text": [
      "45\n"
     ]
    }
   ],
   "source": [
    "from operator import add\n",
    "rdd = sc.parallelize(list(range(10)), 2)\n",
    "result = rdd.reduce(add)\n",
    "print(result)"
   ]
  },
  {
   "cell_type": "code",
   "execution_count": 13,
   "metadata": {
    "collapsed": false,
    "scrolled": true
   },
   "outputs": [
    {
     "data": {
      "text/plain": [
       "[[0, 3, 6, 9], [1, 4, 7], [2, 5, 8]]"
      ]
     },
     "execution_count": 13,
     "metadata": {},
     "output_type": "execute_result"
    }
   ],
   "source": [
    "rdd = sc.parallelize(list(range(10)),2) \\\n",
    "        .map(lambda x: (x, x))\n",
    "rdd.partitionBy(3, lambda x: x % 3) \\\n",
    "    .map(lambda t: t[1]) \\\n",
    "    .glom() \\\n",
    "    .collect()"
   ]
  },
  {
   "cell_type": "code",
   "execution_count": 8,
   "metadata": {
    "collapsed": false,
    "scrolled": false
   },
   "outputs": [
    {
     "data": {
      "text/plain": [
       "[[0, 1, 4, 9, 16], [25, 36, 49, 64, 81]]"
      ]
     },
     "execution_count": 8,
     "metadata": {},
     "output_type": "execute_result"
    }
   ],
   "source": [
    "rdd = sc.parallelize(range(10),2)\n",
    "rdd.mapPartitions(lambda it: map(lambda x: x**2, it)) \\\n",
    "    .glom() \\\n",
    "    .collect()"
   ]
  },
  {
   "cell_type": "code",
   "execution_count": 11,
   "metadata": {
    "collapsed": false,
    "scrolled": true
   },
   "outputs": [
    {
     "data": {
      "text/plain": [
       "[[0], [1]]"
      ]
     },
     "execution_count": 11,
     "metadata": {},
     "output_type": "execute_result"
    }
   ],
   "source": [
    "rdd = sc.parallelize([1, 2, 3, 4], 2)\n",
    "def f(splitIndex, iterator): yield splitIndex # the indexth partition\n",
    "rdd.mapPartitionsWithIndex(f).glom().collect()"
   ]
  }
 ],
 "metadata": {
  "kernelspec": {
   "display_name": "Python 3",
   "language": "python",
   "name": "python3"
  },
  "language_info": {
   "codemirror_mode": {
    "name": "ipython",
    "version": 3
   },
   "file_extension": ".py",
   "mimetype": "text/x-python",
   "name": "python",
   "nbconvert_exporter": "python",
   "pygments_lexer": "ipython3",
   "version": "3.5.0"
  }
 },
 "nbformat": 4,
 "nbformat_minor": 0
}
